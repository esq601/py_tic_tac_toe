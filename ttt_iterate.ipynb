{
 "cells": [
  {
   "cell_type": "code",
   "execution_count": 1,
   "source": [
    "import numpy as np\r\n",
    "import tic_tac_toe as ttt"
   ],
   "outputs": [],
   "metadata": {}
  },
  {
   "cell_type": "code",
   "execution_count": 2,
   "source": [
    "game = ttt.tic_tac_toe()\r\n",
    "numplayer = game.numplayer(nplay = 2)\r\n",
    "print(numplayer)\r\n"
   ],
   "outputs": [
    {
     "output_type": "stream",
     "name": "stdout",
     "text": [
      "2\n"
     ]
    }
   ],
   "metadata": {}
  },
  {
   "cell_type": "code",
   "execution_count": 3,
   "source": [
    "game.loop(nplay = 2)"
   ],
   "outputs": [
    {
     "output_type": "stream",
     "name": "stdout",
     "text": [
      "Tie game\n"
     ]
    }
   ],
   "metadata": {}
  },
  {
   "cell_type": "code",
   "execution_count": 8,
   "source": [
    "outcome = []\r\n",
    "\r\n",
    "for i in range(10):\r\n",
    "    single = game.loop(nplay = 2)\r\n",
    "    outcome.append(single)"
   ],
   "outputs": [
    {
     "output_type": "stream",
     "name": "stdout",
     "text": [
      "Tie game\n",
      "Tie game\n",
      "Tie game\n",
      "Tie game\n",
      "Tie game\n",
      "Tie game\n",
      "Tie game\n",
      "Tie game\n",
      "Tie game\n",
      "Tie game\n"
     ]
    }
   ],
   "metadata": {}
  },
  {
   "cell_type": "code",
   "execution_count": 9,
   "source": [
    "outcome"
   ],
   "outputs": [
    {
     "output_type": "execute_result",
     "data": {
      "text/plain": [
       "[None, None, None, None, None, None, None, None, None, None]"
      ]
     },
     "metadata": {},
     "execution_count": 9
    }
   ],
   "metadata": {}
  },
  {
   "cell_type": "code",
   "execution_count": null,
   "source": [],
   "outputs": [],
   "metadata": {}
  }
 ],
 "metadata": {
  "orig_nbformat": 4,
  "language_info": {
   "name": "python",
   "version": "3.9.7",
   "mimetype": "text/x-python",
   "codemirror_mode": {
    "name": "ipython",
    "version": 3
   },
   "pygments_lexer": "ipython3",
   "nbconvert_exporter": "python",
   "file_extension": ".py"
  },
  "kernelspec": {
   "name": "python3",
   "display_name": "Python 3.9.7 64-bit ('datasci': conda)"
  },
  "interpreter": {
   "hash": "13ccc98c8ee67f42910504857c29fa1fed2a198b9b7ed5eddefbc55fa4611299"
  }
 },
 "nbformat": 4,
 "nbformat_minor": 2
}