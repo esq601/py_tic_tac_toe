{
 "cells": [
  {
   "cell_type": "code",
   "execution_count": 1,
   "metadata": {},
   "outputs": [],
   "source": [
    "import numpy as np\n",
    "import pandas as pd"
   ]
  },
  {
   "cell_type": "code",
   "execution_count": 2,
   "metadata": {},
   "outputs": [],
   "source": [
    "cnt = 0\n",
    "results = {}\n",
    "ans = []"
   ]
  },
  {
   "cell_type": "code",
   "execution_count": 3,
   "metadata": {},
   "outputs": [],
   "source": [
    "def dfs(state, cur):\n",
    "    global cnt, results, ans\n",
    "    if tuple(state) in results.keys():\n",
    "        return\n",
    "    cnt += 1\n",
    "    ans.append(tuple(state))\n",
    "    ex_states = ex(state)\n",
    "    for ex_state in ex_states:\n",
    "        results[tuple(ex_state)] = True\n",
    "    if is_win(state):\n",
    "        return\n",
    "    for i in range(0,9):\n",
    "        if state[i] == 0:\n",
    "            state[i] = 1 if cur else 2\n",
    "            dfs(state, not cur)\n",
    "            state[i] = 0\n"
   ]
  },
  {
   "cell_type": "code",
   "execution_count": 4,
   "metadata": {},
   "outputs": [],
   "source": [
    "def ex(state):\n",
    "    ex_states = []\n",
    "    ex_strategys = [[0,1,2,3,4,5,6,7,8],\n",
    "                  [2,1,0,5,4,3,8,7,6],\n",
    "                  [6,7,8,3,4,5,0,1,2],\n",
    "                  [8,5,2,7,4,1,6,3,0],\n",
    "                  [0,3,6,1,4,7,2,5,8],\n",
    "                  [6,3,0,7,4,1,8,5,2],\n",
    "                  [8,7,6,5,4,3,2,1,0],\n",
    "                  [2,5,8,1,4,7,0,3,6]]\n",
    "    for strategy in ex_strategys:\n",
    "        ex_states.append(tuple(rearrange(state,strategy)))\n",
    "    return ex_states\n",
    "                "
   ]
  },
  {
   "cell_type": "code",
   "execution_count": 5,
   "metadata": {},
   "outputs": [],
   "source": [
    "def is_win(state):\n",
    "    win_strategys = [[0,1,2],[3,4,5],[6,7,8],[0,3,6],[1,4,7],[2,5,8],[0,4,8],[2,4,6]]\n",
    "    for strategy in win_strategys:\n",
    "        if is_equal(state,strategy):\n",
    "            return True\n",
    "    return False"
   ]
  },
  {
   "cell_type": "code",
   "execution_count": 6,
   "metadata": {},
   "outputs": [],
   "source": [
    "def rearrange(a,arrange):\n",
    "    ret = []\n",
    "    for i in arrange:\n",
    "        ret.append(a[i])\n",
    "    return ret"
   ]
  },
  {
   "cell_type": "code",
   "execution_count": 7,
   "metadata": {},
   "outputs": [],
   "source": [
    "def is_equal(a, indexes):\n",
    "    for i in indexes:\n",
    "        if not a[i] or a[i] != a[indexes[0]]:\n",
    "            return False\n",
    "    return True"
   ]
  },
  {
   "cell_type": "code",
   "execution_count": 59,
   "metadata": {},
   "outputs": [],
   "source": [
    "#Player logic\n",
    "#If statement of util_bot to play with developed bot instead of random.\n",
    "#TODO fix\n",
    "\n",
    "def rand_add(state,player, util_bot):\n",
    "    winner = np.NaN\n",
    "    game_over = False\n",
    "    zeros = state == 0\n",
    "    \n",
    "    zeros_out = np.where(zeros)[0]\n",
    "\n",
    "    if(zeros_out.any() == True):\n",
    "\n",
    "        if(util_bot == True & player == 1):\n",
    "            #print(player)\n",
    "            move = util_player(state,1)\n",
    "\n",
    "        else:\n",
    "            move = np.random.choice(zeros_out)\n",
    "\n",
    "        state[move] = player\n",
    "\n",
    "        if(is_win(state) == True):\n",
    "            winner = player\n",
    "            game_over = True\n",
    "    else:\n",
    "        #print(\"tie!\")\n",
    "        move = 0\n",
    "        winner = 0\n",
    "        game_over = True\n",
    "    return state, move, player, winner, game_over"
   ]
  },
  {
   "cell_type": "code",
   "execution_count": 60,
   "metadata": {},
   "outputs": [],
   "source": [
    "#Play a game to completion.\n",
    "\n",
    "def play_game(start_state, util_bot):\n",
    "    i = 1\n",
    "    won_test = False\n",
    "    results = []\n",
    "    while(won_test == False):\n",
    "        i += 1\n",
    "        state_out = rand_add(start_state, (i % 2)+1,util_bot)\n",
    "        results.append([tuple(state_out[0]),state_out[1],state_out[2],state_out[3]])\n",
    "        won_test = state_out[4]\n",
    "        #print(state_out)\n",
    "    return results"
   ]
  },
  {
   "cell_type": "code",
   "execution_count": 61,
   "metadata": {},
   "outputs": [],
   "source": [
    "#Generate data for game play\n",
    "\n",
    "def evaluate_results(results,base_set,game_num, disc):\n",
    "    \n",
    "    df = results\n",
    "    u = []\n",
    "    s = []\n",
    "\n",
    "    if(df.get(3)[df.shape[0]-1]==2):\n",
    "        #print(\"loss\")\n",
    "        val = -10\n",
    "        \n",
    "        for i in range(0,df.shape[0]):\n",
    "            s.append(list(set(base_set) & set(ex(df.get(0)[i]))))\n",
    "            #print(s)\n",
    "            u.append(val)\n",
    "            val = val * disc\n",
    "\n",
    "    elif(df.get(3)[df.shape[0]-1]==1):\n",
    "        #print(\"win\")\n",
    "        val = 10\n",
    "        for i in range(0,df.shape[0]):\n",
    "            s.append(list(set(base_set) & set(ex(df.get(0)[i]))))\n",
    "\n",
    "            u.append(val)\n",
    "            val = val * disc\n",
    "\n",
    "    else:\n",
    "        #print(\"tie\")\n",
    "        val = 0\n",
    "        for i in range(0,df.shape[0]):\n",
    "            s.append(list(set(base_set) & set(ex(df.get(0)[i]))))\n",
    "\n",
    "            u.append(val)\n",
    "            val = val * disc\n",
    "\n",
    "    df[\"u\"] = u[::-1]\n",
    "    df[\"s\"] = s    \n",
    "    df[\"game\"] = game_num\n",
    "\n",
    "    return(df)"
   ]
  },
  {
   "cell_type": "code",
   "execution_count": 62,
   "metadata": {},
   "outputs": [],
   "source": [
    "#Function to play the best utility move.\n",
    "#Requires 'results3aa' to have utilities.\n",
    "#Can either run random play or read in csv with utilities.\n",
    "\n",
    "def util_player(state, player):\n",
    "    val = state\n",
    "    #print(val)\n",
    "    start_state = np.array(val)\n",
    "\n",
    "    zeros = start_state == 0\n",
    "\n",
    "    zeros_out = np.where(zeros)[0]\n",
    "\n",
    "    moves = []\n",
    "    best = []\n",
    "    for space in zeros_out:\n",
    "        state_new = np.array(val)\n",
    "        \n",
    "        state_new[space] = player\n",
    "        state_new_off = str(list(set(set1) & set(ex(state_new))))\n",
    "        res = results3aa.filter(like = state_new_off, axis = 0)\n",
    "        best_temp = [state_new,space,res[0]]\n",
    "        best.append(best_temp)\n",
    "\n",
    "    best = pd.DataFrame(best)\n",
    "    best1 = best[[1,2]]\n",
    "    move = int(best1.loc[best[2] == max(best[2])][1].iloc[0])\n",
    "    #print(best)\n",
    "    return move"
   ]
  },
  {
   "cell_type": "code",
   "execution_count": null,
   "metadata": {},
   "outputs": [],
   "source": [
    "# Initialize ans and dataframe\n",
    "results1a = pd.DataFrame()\n",
    "dfs([0,0,0,0,0,0,0,0,0],True)\n",
    "\n",
    "# Play random games of ttt\n",
    "# This generates\n",
    "\n",
    "\n",
    "for i in range(0,10000):\n",
    "    set1 = tuple(ans)\n",
    "    state_temp = np.array([0,0,0,0,0,0,0,0,0])\n",
    "    res_temp = pd.DataFrame(play_game(state_temp,False))\n",
    "    #print(res_temp)\n",
    "    out = evaluate_results(res_temp, set1,i,0.95)\n",
    "    results1a = results1a.append(out)\n",
    "\n",
    "results2aa = results1a.astype({\"s\": str})\n",
    "\n",
    "results3aa = results2aa.groupby('s')['u'].mean()"
   ]
  },
  {
   "cell_type": "code",
   "execution_count": 65,
   "metadata": {},
   "outputs": [
    {
     "data": {
      "text/plain": [
       "[[(0, 0, 0, 0, 1, 0, 0, 0, 0), 4, 1, nan],\n",
       " [(2, 0, 0, 0, 1, 0, 0, 0, 0), 0, 2, nan],\n",
       " [(2, 1, 0, 0, 1, 0, 0, 0, 0), 1, 1, nan],\n",
       " [(2, 1, 0, 2, 1, 0, 0, 0, 0), 3, 2, nan],\n",
       " [(2, 1, 0, 2, 1, 0, 0, 1, 0), 7, 1, 1]]"
      ]
     },
     "execution_count": 65,
     "metadata": {},
     "output_type": "execute_result"
    }
   ],
   "source": [
    "# Play a single game of ttt\n",
    "dfs([0,0,0,0,0,0,0,0,0],True)\n",
    "\n",
    "state_temp = np.array([0,0,0,0,0,0,0,0,0])\n",
    "\n",
    "set1 = tuple(ans)\n",
    "play_game(state_temp,True)"
   ]
  },
  {
   "cell_type": "code",
   "execution_count": 66,
   "metadata": {},
   "outputs": [
    {
     "data": {
      "text/html": [
       "<div>\n",
       "<style scoped>\n",
       "    .dataframe tbody tr th:only-of-type {\n",
       "        vertical-align: middle;\n",
       "    }\n",
       "\n",
       "    .dataframe tbody tr th {\n",
       "        vertical-align: top;\n",
       "    }\n",
       "\n",
       "    .dataframe thead th {\n",
       "        text-align: right;\n",
       "    }\n",
       "</style>\n",
       "<table border=\"1\" class=\"dataframe\">\n",
       "  <thead>\n",
       "    <tr style=\"text-align: right;\">\n",
       "      <th></th>\n",
       "      <th>0</th>\n",
       "      <th>1</th>\n",
       "      <th>2</th>\n",
       "      <th>3</th>\n",
       "      <th>u</th>\n",
       "      <th>s</th>\n",
       "      <th>game</th>\n",
       "    </tr>\n",
       "  </thead>\n",
       "  <tbody>\n",
       "    <tr>\n",
       "      <th>0</th>\n",
       "      <td>(0, 0, 0, 0, 1, 0, 0, 0, 0)</td>\n",
       "      <td>4</td>\n",
       "      <td>1</td>\n",
       "      <td>NaN</td>\n",
       "      <td>7.350919</td>\n",
       "      <td>[(0, 0, 0, 0, 1, 0, 0, 0, 0)]</td>\n",
       "      <td>0</td>\n",
       "    </tr>\n",
       "    <tr>\n",
       "      <th>1</th>\n",
       "      <td>(0, 0, 0, 0, 1, 2, 0, 0, 0)</td>\n",
       "      <td>5</td>\n",
       "      <td>2</td>\n",
       "      <td>NaN</td>\n",
       "      <td>7.737809</td>\n",
       "      <td>[(0, 2, 0, 0, 1, 0, 0, 0, 0)]</td>\n",
       "      <td>0</td>\n",
       "    </tr>\n",
       "    <tr>\n",
       "      <th>2</th>\n",
       "      <td>(0, 0, 1, 0, 1, 2, 0, 0, 0)</td>\n",
       "      <td>2</td>\n",
       "      <td>1</td>\n",
       "      <td>NaN</td>\n",
       "      <td>8.145062</td>\n",
       "      <td>[(1, 2, 0, 0, 1, 0, 0, 0, 0)]</td>\n",
       "      <td>0</td>\n",
       "    </tr>\n",
       "    <tr>\n",
       "      <th>3</th>\n",
       "      <td>(0, 0, 1, 0, 1, 2, 2, 0, 0)</td>\n",
       "      <td>6</td>\n",
       "      <td>2</td>\n",
       "      <td>NaN</td>\n",
       "      <td>8.573750</td>\n",
       "      <td>[(1, 2, 0, 0, 1, 0, 0, 0, 2)]</td>\n",
       "      <td>0</td>\n",
       "    </tr>\n",
       "    <tr>\n",
       "      <th>4</th>\n",
       "      <td>(0, 0, 1, 0, 1, 2, 2, 0, 1)</td>\n",
       "      <td>8</td>\n",
       "      <td>1</td>\n",
       "      <td>NaN</td>\n",
       "      <td>9.025000</td>\n",
       "      <td>[(1, 2, 1, 0, 1, 0, 2, 0, 0)]</td>\n",
       "      <td>0</td>\n",
       "    </tr>\n",
       "  </tbody>\n",
       "</table>\n",
       "</div>"
      ],
      "text/plain": [
       "                             0  1  2   3         u  \\\n",
       "0  (0, 0, 0, 0, 1, 0, 0, 0, 0)  4  1 NaN  7.350919   \n",
       "1  (0, 0, 0, 0, 1, 2, 0, 0, 0)  5  2 NaN  7.737809   \n",
       "2  (0, 0, 1, 0, 1, 2, 0, 0, 0)  2  1 NaN  8.145062   \n",
       "3  (0, 0, 1, 0, 1, 2, 2, 0, 0)  6  2 NaN  8.573750   \n",
       "4  (0, 0, 1, 0, 1, 2, 2, 0, 1)  8  1 NaN  9.025000   \n",
       "\n",
       "                               s  game  \n",
       "0  [(0, 0, 0, 0, 1, 0, 0, 0, 0)]     0  \n",
       "1  [(0, 2, 0, 0, 1, 0, 0, 0, 0)]     0  \n",
       "2  [(1, 2, 0, 0, 1, 0, 0, 0, 0)]     0  \n",
       "3  [(1, 2, 0, 0, 1, 0, 0, 0, 2)]     0  \n",
       "4  [(1, 2, 1, 0, 1, 0, 2, 0, 0)]     0  "
      ]
     },
     "execution_count": 66,
     "metadata": {},
     "output_type": "execute_result"
    }
   ],
   "source": [
    "#Head of the results dataframe\n",
    "\n",
    "results1a.head()"
   ]
  },
  {
   "cell_type": "code",
   "execution_count": 28,
   "metadata": {},
   "outputs": [
    {
     "data": {
      "text/plain": [
       "<AxesSubplot:>"
      ]
     },
     "execution_count": 28,
     "metadata": {},
     "output_type": "execute_result"
    },
    {
     "data": {
      "image/png": "[encoded data removed]",
      "text/plain": [
       "<Figure size 432x288 with 1 Axes>"
      ]
     },
     "metadata": {
      "needs_background": "light"
     },
     "output_type": "display_data"
    }
   ],
   "source": [
    "# Results of random game play\n",
    "# 0 ~ tie, 1 ~ X win, 2 ~ O win\n",
    "\n",
    "winners = results1a[3].dropna()\n",
    "\n",
    "winners.hist()"
   ]
  },
  {
   "cell_type": "code",
   "execution_count": 128,
   "metadata": {},
   "outputs": [],
   "source": [
    "#results3aa.to_csv(\"good_util.csv\")"
   ]
  },
  {
   "cell_type": "code",
   "execution_count": 70,
   "metadata": {},
   "outputs": [],
   "source": [
    "# Play bot games against random player.\n",
    "# Initiallize at all 0 or equal number of 1 and 2.\n",
    "# Need to allow for player 2 to run\n",
    "\n",
    "results_smort = pd.DataFrame()\n",
    "\n",
    "for i in range(0,1000):\n",
    "    set1 = tuple(ans)\n",
    "    state_temp = np.array([0,0,0,0,0,0,0,0,0])\n",
    "    res_temp = pd.DataFrame(play_game(state_temp,True))\n",
    "    #print(res_temp)\n",
    "    out = evaluate_results(res_temp, set1,i,0.95)\n",
    "    results_smort = results_smort.append(out)"
   ]
  },
  {
   "cell_type": "code",
   "execution_count": 71,
   "metadata": {},
   "outputs": [
    {
     "data": {
      "text/plain": [
       "<AxesSubplot:>"
      ]
     },
     "execution_count": 71,
     "metadata": {},
     "output_type": "execute_result"
    },
    {
     "data": {
      "image/png": "[encoded data removed]",
      "text/plain": [
       "<Figure size 432x288 with 1 Axes>"
      ]
     },
     "metadata": {
      "needs_background": "light"
     },
     "output_type": "display_data"
    }
   ],
   "source": [
    "# Results of smart bot game play\n",
    "# 0 ~ tie, 1 ~ X win, 2 ~ O win\n",
    "\n",
    "winners_smort = results_smort[3].dropna()\n",
    "\n",
    "winners_smort.hist()"
   ]
  },
  {
   "cell_type": "code",
   "execution_count": 745,
   "metadata": {},
   "outputs": [],
   "source": [
    "def print_state(state):#################################################\n",
    "    model = \"{0[0]} | {0[1]} | {0[2]}\\n----------\\n{0[3]} | {0[4]} | {0[5]}\\n----------\\n{0[6]} | {0[7]} | {0[8]}\"\n",
    "    temp = []\n",
    "    for i in state:\n",
    "        if i == 0:\n",
    "            temp.append(\" \")\n",
    "        elif i == 1:\n",
    "            temp.append(\"O\")\n",
    "        else:\n",
    "            temp.append(\"X\")\n",
    "    print(model.format(temp))\n",
    "    \n",
    "    \n",
    "    "
   ]
  },
  {
   "cell_type": "code",
   "execution_count": null,
   "metadata": {},
   "outputs": [],
   "source": [
    "if __name__ == \"__main__\":\n",
    "    dfs([0,0,0,0,0,0,0,0,0], True)\n",
    "    print(cnt)\n",
    "    for i in range(0,len(ans)):\n",
    "        print(\"#%d:\" % (i+1))\n",
    "        print_state(ans[i])"
   ]
  },
  {
   "cell_type": "code",
   "execution_count": 18,
   "metadata": {},
   "outputs": [],
   "source": [
    "ans\n",
    "unique_states = pd.DataFrame(ans)\n",
    "unique_states.to_csv('unique_states.csv')"
   ]
  }
 ],
 "metadata": {
  "kernelspec": {
   "display_name": "Python 3",
   "language": "python",
   "name": "python3"
  },
  "language_info": {
   "codemirror_mode": {
    "name": "ipython",
    "version": 3
   },
   "file_extension": ".py",
   "mimetype": "text/x-python",
   "name": "python",
   "nbconvert_exporter": "python",
   "pygments_lexer": "ipython3",
   "version": "3.9.7"
  }
 },
 "nbformat": 4,
 "nbformat_minor": 4
}
